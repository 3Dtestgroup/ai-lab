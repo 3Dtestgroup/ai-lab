{
 "cells": [
  {
   "cell_type": "markdown",
   "metadata": {},
   "source": [
    "# Numpy课堂作业"
   ]
  },
  {
   "cell_type": "markdown",
   "metadata": {},
   "source": [
    "### 2016年美国总统大选民意调查数据统计：\n",
    "\n",
    "数据来源：https://www.kaggle.com/fivethirtyeight/2016-election-polls       \n",
    "该数据集包含了2015年11月至2016年11月期间对于2016美国大选的选票数据，共27列数据。包括按州，日期，民意调查和民意调查评分得出的原始和加权民意调查结果的数据。"
   ]
  },
  {
   "cell_type": "markdown",
   "metadata": {},
   "source": [
    "       \n",
    "题目：分析随时间推移的民意调查趋势，提取特朗普/克林顿的选票比率。"
   ]
  },
  {
   "cell_type": "code",
   "execution_count": 2,
   "metadata": {
    "ExecuteTime": {
     "end_time": "2019-11-01T17:05:06.409869Z",
     "start_time": "2019-11-01T17:05:06.314163Z"
    }
   },
   "outputs": [
    {
     "name": "stdout",
     "output_type": "stream",
     "text": [
      "[['matchup' 'adjpoll_clinton' 'adjpoll_trump' 'adjpoll_johnson']\n",
      " ['\"Clinton vs. Trump vs. Johnson\"' '42.6414' '40.86509' '5.675099']\n",
      " ['\"Clinton vs. Trump vs. Johnson\"' '43.29659' '44.72984' '3.401513']\n",
      " ...\n",
      " ['\"Clinton vs. Trump vs. Johnson\"' '45.9713' '39.97518' '']\n",
      " ['\"Clinton vs. Trump vs. Johnson\"' '45.2939' '46.66175' '1.596946']\n",
      " ['\"Clinton vs. Trump vs. Johnson\"' '31.62721' '44.65947' '']]\n"
     ]
    }
   ],
   "source": [
    "import numpy as np\n",
    "filename = \"./data/presidential_polls.csv\"\n",
    "data_arr = np.genfromtxt(filename, # 需要打开的csv文件的文件名\n",
    "           delimiter = \",\", # csv文件的分隔符\n",
    "           dtype=str, # 按字符串存储数据，不在转换为字节码\n",
    "           usecols=(3, 17, 18, 19) # 表示读取文件里的列的索引位置\n",
    "          )\n",
    "print(data_arr)\n"
   ]
  },
  {
   "cell_type": "code",
   "execution_count": null,
   "metadata": {},
   "outputs": [],
   "source": []
  }
 ],
 "metadata": {
  "kernelspec": {
   "display_name": "Python 3",
   "language": "python",
   "name": "python3"
  },
  "language_info": {
   "codemirror_mode": {
    "name": "ipython",
    "version": 3
   },
   "file_extension": ".py",
   "mimetype": "text/x-python",
   "name": "python",
   "nbconvert_exporter": "python",
   "pygments_lexer": "ipython3",
   "version": "3.7.1"
  }
 },
 "nbformat": 4,
 "nbformat_minor": 2
}
