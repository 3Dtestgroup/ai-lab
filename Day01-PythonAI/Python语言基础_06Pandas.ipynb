{
 "cells": [
  {
   "cell_type": "markdown",
   "metadata": {},
   "source": [
    "# Pandas\n",
    "\n",
    "[Pandas的功能](http://pandas.pydata.org)     \n",
    "Pandas是一个强大的分析结构化数据的工具集，提供了高级数据结构和数据操作工具，它是使Python成为强大而高效的数据处理环境的重要因素之一。\n",
    "\n",
    "Numpy能够帮助我们处理数值，但是pandas除了处理数值之外(基于numpy)，还能够帮助我们处理其他类型的数据，提供了大量能够快速便捷地处理数据的函数和方法。\n",
    "\n"
   ]
  },
  {
   "cell_type": "markdown",
   "metadata": {},
   "source": [
    "### Pandas的数据结构\n",
    " - Series，一维，带标签的数组，List中的元素可以是不同的数据类型，Series中则只允许存储相同的数据类型。    \n",
    " - DataFrame，二维，Series容器   \n",
    " - Panel，三维（扩展）   "
   ]
  },
  {
   "cell_type": "markdown",
   "metadata": {},
   "source": [
    "####  Series\n",
    "Series是一种类似于一维数组的对象，能够保存任何数据类型（整数，字符串，浮点数，Python对象等）。   \n",
    "由一组数据以及一组与之对应的索引组成，索引(index)在左，数据(values)在右。"
   ]
  },
  {
   "cell_type": "code",
   "execution_count": 139,
   "metadata": {},
   "outputs": [
    {
     "name": "stdout",
     "output_type": "stream",
     "text": [
      "0    10\n",
      "1    11\n",
      "2    12\n",
      "3    13\n",
      "4    14\n",
      "dtype: int64\n",
      "<class 'pandas.core.series.Series'>\n",
      "\n",
      "\n",
      "[10 11 12 13 14 15 16 17 18 19]\n",
      "RangeIndex(start=0, stop=10, step=1)\n",
      "18\n"
     ]
    }
   ],
   "source": [
    "import pandas as pd\n",
    "ser_obj = pd.Series(range(10, 20))\n",
    "print(ser_obj.head(5))\n",
    "print(type(ser_obj))\n",
    "print( '\\n'*1 )\n",
    "# 获取数据\n",
    "print(ser_obj.values)\n",
    "# 获取索引\n",
    "print(ser_obj.index)\n",
    "#通过索引获取数据\n",
    "print(ser_obj[8])"
   ]
  },
  {
   "cell_type": "code",
   "execution_count": 140,
   "metadata": {},
   "outputs": [
    {
     "name": "stdout",
     "output_type": "stream",
     "text": [
      "2001    17.8\n",
      "2002    20.1\n",
      "2003    16.5\n",
      "dtype: float64\n",
      "Int64Index([2001, 2002, 2003], dtype='int64')\n"
     ]
    }
   ],
   "source": [
    "# 通过dict构建Series\n",
    "year_data = {2001: 17.8, 2002: 20.1, 2003: 16.5}\n",
    "ser_obj2 = pd.Series(year_data)\n",
    "print(ser_obj2.head())\n",
    "print(ser_obj2.index)\n",
    "# 对象名：ser_obj2.name   \n",
    "#对象索引名：ser_obj2.index.name\n",
    "ser_obj2.name = 'temp'\n",
    "ser_obj2.index.name = 'year'"
   ]
  },
  {
   "cell_type": "markdown",
   "metadata": {},
   "source": [
    "#### DataFrame\n",
    "DataFrame是一个二维标记数据结构，类似多维数组/表格数据，它含有一组有序的列，每列可以是不同类型的值。     \n",
    "DataFrame既有行索引也有列索引，它可以被看做是由Series组成的字典（共用同一个索引），数据是以二维结构存放的。\n",
    "\n",
    "     \n",
    " \n",
    "  \n"
   ]
  },
  {
   "cell_type": "code",
   "execution_count": 59,
   "metadata": {},
   "outputs": [
    {
     "name": "stdout",
     "output_type": "stream",
     "text": [
      "[[-0.2685059  -0.5264529   0.79993037 -0.45251731]\n",
      " [ 0.18667391  0.05632258  0.95593401  0.22231752]\n",
      " [-0.26587893 -1.17773156 -0.26075826  0.0636375 ]\n",
      " [-0.72054506  1.38708311 -0.94495735 -0.41909144]\n",
      " [ 0.12487893 -0.44650323 -0.1358003  -0.30068824]]\n",
      "\n",
      "\n",
      "          0         1         2         3\n",
      "0 -0.268506 -0.526453  0.799930 -0.452517\n",
      "1  0.186674  0.056323  0.955934  0.222318\n",
      "2 -0.265879 -1.177732 -0.260758  0.063637\n",
      "3 -0.720545  1.387083 -0.944957 -0.419091\n",
      "4  0.124879 -0.446503 -0.135800 -0.300688\n"
     ]
    }
   ],
   "source": [
    "import numpy as np\n",
    "# 通过ndarray构建DataFrame\n",
    "array = np.random.randn(5,4)\n",
    "print(array)\n",
    "print( '\\n'*1 )\n",
    "df_obj = pd.DataFrame(array)\n",
    "print(df_obj.head())"
   ]
  },
  {
   "cell_type": "code",
   "execution_count": 61,
   "metadata": {},
   "outputs": [
    {
     "name": "stdout",
     "output_type": "stream",
     "text": [
      "   A          B    C  D       E       F\n",
      "0  1 2017-04-26  1.0  3  Python  ITCast\n",
      "1  1 2017-04-26  1.0  3    Java  ITCast\n",
      "2  1 2017-04-26  1.0  3     C++  ITCast\n",
      "3  1 2017-04-26  1.0  3       C  ITCast\n",
      "\n",
      "\n",
      "0    1\n",
      "1    1\n",
      "2    1\n",
      "3    1\n",
      "Name: A, dtype: int64\n",
      "<class 'pandas.core.series.Series'>\n",
      "\n",
      "\n",
      "   A          B    C  D       E       F  G\n",
      "0  1 2017-04-26  1.0  3  Python  ITCast  8\n",
      "1  1 2017-04-26  1.0  3    Java  ITCast  8\n",
      "2  1 2017-04-26  1.0  3     C++  ITCast  8\n",
      "3  1 2017-04-26  1.0  3       C  ITCast  8\n",
      "   A          B    C  D       E       F\n",
      "0  1 2017-04-26  1.0  3  Python  ITCast\n",
      "1  1 2017-04-26  1.0  3    Java  ITCast\n",
      "2  1 2017-04-26  1.0  3     C++  ITCast\n",
      "3  1 2017-04-26  1.0  3       C  ITCast\n"
     ]
    }
   ],
   "source": [
    "# 通过dict构建DataFrame\n",
    "dict_data = {'A': 1, \n",
    "             'B': pd.Timestamp('20170426'),\n",
    "             'C': pd.Series(1, index=list(range(4)),dtype='float32'),\n",
    "             'D': np.array([3] * 4,dtype='int32'),\n",
    "             'E': [\"Python\",\"Java\",\"C++\",\"C\"],\n",
    "             'F': 'ITCast' }\n",
    "df_obj2 = pd.DataFrame(dict_data)\n",
    "print(df_obj2)\n",
    "print( '\\n'*1 )\n",
    "# 通过列索引获取列数据\n",
    "print(df_obj2['A'])\n",
    "print(type(df_obj2['A']))\n",
    "print( '\\n'*1 )\n",
    "# 增加列\n",
    "df_obj2['G'] = df_obj2['D'] +  5\n",
    "print(df_obj2.head())\n",
    "# 删除列\n",
    "del(df_obj2['G'] )\n",
    "print(df_obj2.head())"
   ]
  },
  {
   "cell_type": "markdown",
   "metadata": {},
   "source": [
    "### Pandas的索引操作"
   ]
  },
  {
   "cell_type": "code",
   "execution_count": 17,
   "metadata": {},
   "outputs": [
    {
     "ename": "TypeError",
     "evalue": "Index does not support mutable operations",
     "output_type": "error",
     "traceback": [
      "\u001b[0;31m---------------------------------------------------------------------------\u001b[0m",
      "\u001b[0;31mTypeError\u001b[0m                                 Traceback (most recent call last)",
      "\u001b[0;32m<ipython-input-17-6367894e76d8>\u001b[0m in \u001b[0;36m<module>\u001b[0;34m\u001b[0m\n\u001b[1;32m      1\u001b[0m \u001b[0;31m# 索引对象不可变\u001b[0m\u001b[0;34m\u001b[0m\u001b[0;34m\u001b[0m\u001b[0;34m\u001b[0m\u001b[0m\n\u001b[0;32m----> 2\u001b[0;31m \u001b[0mdf_obj2\u001b[0m\u001b[0;34m.\u001b[0m\u001b[0mindex\u001b[0m\u001b[0;34m[\u001b[0m\u001b[0;36m0\u001b[0m\u001b[0;34m]\u001b[0m \u001b[0;34m=\u001b[0m \u001b[0;36m2\u001b[0m\u001b[0;34m\u001b[0m\u001b[0;34m\u001b[0m\u001b[0m\n\u001b[0m",
      "\u001b[0;32m~/workspaces/3Ding/lib/python3.7/site-packages/pandas/core/indexes/base.py\u001b[0m in \u001b[0;36m__setitem__\u001b[0;34m(self, key, value)\u001b[0m\n\u001b[1;32m   4258\u001b[0m \u001b[0;34m\u001b[0m\u001b[0m\n\u001b[1;32m   4259\u001b[0m     \u001b[0;32mdef\u001b[0m \u001b[0m__setitem__\u001b[0m\u001b[0;34m(\u001b[0m\u001b[0mself\u001b[0m\u001b[0;34m,\u001b[0m \u001b[0mkey\u001b[0m\u001b[0;34m,\u001b[0m \u001b[0mvalue\u001b[0m\u001b[0;34m)\u001b[0m\u001b[0;34m:\u001b[0m\u001b[0;34m\u001b[0m\u001b[0;34m\u001b[0m\u001b[0m\n\u001b[0;32m-> 4260\u001b[0;31m         \u001b[0;32mraise\u001b[0m \u001b[0mTypeError\u001b[0m\u001b[0;34m(\u001b[0m\u001b[0;34m\"Index does not support mutable operations\"\u001b[0m\u001b[0;34m)\u001b[0m\u001b[0;34m\u001b[0m\u001b[0;34m\u001b[0m\u001b[0m\n\u001b[0m\u001b[1;32m   4261\u001b[0m \u001b[0;34m\u001b[0m\u001b[0m\n\u001b[1;32m   4262\u001b[0m     \u001b[0;32mdef\u001b[0m \u001b[0m__getitem__\u001b[0m\u001b[0;34m(\u001b[0m\u001b[0mself\u001b[0m\u001b[0;34m,\u001b[0m \u001b[0mkey\u001b[0m\u001b[0;34m)\u001b[0m\u001b[0;34m:\u001b[0m\u001b[0;34m\u001b[0m\u001b[0;34m\u001b[0m\u001b[0m\n",
      "\u001b[0;31mTypeError\u001b[0m: Index does not support mutable operations"
     ]
    }
   ],
   "source": [
    "# 索引对象不可变\n",
    "df_obj2.index[0] = 2"
   ]
  },
  {
   "cell_type": "code",
   "execution_count": 62,
   "metadata": {},
   "outputs": [
    {
     "name": "stdout",
     "output_type": "stream",
     "text": [
      "a    0\n",
      "b    1\n",
      "c    2\n",
      "d    3\n",
      "e    4\n",
      "dtype: int64\n",
      "1\n",
      "2\n",
      "b    1\n",
      "c    2\n",
      "dtype: int64\n",
      "b    1\n",
      "c    2\n",
      "d    3\n",
      "dtype: int64\n",
      "a    0\n",
      "c    2\n",
      "e    4\n",
      "dtype: int64\n"
     ]
    }
   ],
   "source": [
    "#Series索引\n",
    "ser_obj = pd.Series(range(5), index = ['a', 'b', 'c', 'd', 'e'])\n",
    "print(ser_obj.head())\n",
    "# 行索引\n",
    "print(ser_obj['b'])\n",
    "print(ser_obj[2])\n",
    "# 切片索引\n",
    "print(ser_obj[1:3])\n",
    "print(ser_obj['b':'d'])\n",
    "# 不连续索引\n",
    "print(ser_obj[[0, 2, 4]])"
   ]
  },
  {
   "cell_type": "code",
   "execution_count": 17,
   "metadata": {},
   "outputs": [
    {
     "name": "stdout",
     "output_type": "stream",
     "text": [
      "          a         b         c         d\n",
      "0 -1.140965  0.244823 -0.768640 -0.858732\n",
      "1  0.071233 -0.035887  0.854415  0.323309\n",
      "2 -0.377314 -0.841886 -0.218971 -1.219190\n",
      "3 -2.003118  0.548587  0.872923 -0.446656\n",
      "4 -0.493338 -0.727477  0.645850 -0.656872\n",
      "0   -1.140965\n",
      "1    0.071233\n",
      "2   -0.377314\n",
      "3   -2.003118\n",
      "4   -0.493338\n",
      "Name: a, dtype: float64\n",
      "          a\n",
      "0 -1.140965\n",
      "1  0.071233\n",
      "2 -0.377314\n",
      "3 -2.003118\n",
      "4 -0.493338\n",
      "<class 'pandas.core.frame.DataFrame'>\n",
      "          a         c\n",
      "0 -1.140965 -0.768640\n",
      "1  0.071233  0.854415\n",
      "2 -0.377314 -0.218971\n",
      "3 -2.003118  0.872923\n",
      "4 -0.493338  0.645850\n",
      "<class 'pandas.core.frame.DataFrame'>\n"
     ]
    }
   ],
   "source": [
    "#DataFrame索引\n",
    "import numpy as np\n",
    "#columns指定列索引名\n",
    "df_obj = pd.DataFrame(np.random.randn(5,4), columns = ['a', 'b', 'c', 'd']) \n",
    "print(df_obj.head())\n",
    "# 列索引\n",
    "print(df_obj['a']) # 返回Series类型\n",
    "print(df_obj[['a']]) # 返回DataFrame类型\n",
    "print(type(df_obj[['a']])) \n",
    "# 不连续索引\n",
    "print(df_obj[['a','c']])\n",
    "print(type(df_obj[['a','c']]))"
   ]
  },
  {
   "cell_type": "markdown",
   "metadata": {},
   "source": [
    "### Pandas的数据计算"
   ]
  },
  {
   "cell_type": "code",
   "execution_count": 102,
   "metadata": {},
   "outputs": [
    {
     "name": "stdout",
     "output_type": "stream",
     "text": [
      "          a         b         c         d\n",
      "0 -0.128458 -0.239049  1.268771 -0.483132\n",
      "1  0.610187  0.011347 -0.220402 -0.725317\n",
      "2  0.383537 -1.509982 -0.945710  1.057704\n",
      "3 -0.240553 -0.774224  0.778547 -1.486289\n",
      "4 -0.372635  0.550255 -0.226011 -1.246501\n"
     ]
    }
   ],
   "source": [
    "import numpy as np\n",
    "import pandas as pd\n",
    "df_obj = pd.DataFrame(np.random.randn(5,4), columns = ['a', 'b', 'c', 'd'])\n",
    "print(df_obj)"
   ]
  },
  {
   "cell_type": "code",
   "execution_count": 106,
   "metadata": {},
   "outputs": [
    {
     "name": "stdout",
     "output_type": "stream",
     "text": [
      "a    0.252078\n",
      "b   -1.961653\n",
      "c    0.655194\n",
      "d   -2.883534\n",
      "dtype: float64\n",
      "a    5\n",
      "b    5\n",
      "c    5\n",
      "d    5\n",
      "dtype: int64\n",
      "\n",
      "\n",
      "              a         b         c         d\n",
      "count  5.000000  5.000000  5.000000  5.000000\n",
      "mean   0.050416 -0.392331  0.131039 -0.576707\n",
      "std    0.424248  0.785797  0.883754  0.997259\n",
      "min   -0.372635 -1.509982 -0.945710 -1.486289\n",
      "25%   -0.240553 -0.774224 -0.226011 -1.246501\n",
      "50%   -0.128458 -0.239049 -0.220402 -0.725317\n",
      "75%    0.383537  0.011347  0.778547 -0.483132\n",
      "max    0.610187  0.550255  1.268771  1.057704\n"
     ]
    }
   ],
   "source": [
    "#常用的计算axis=0 按列统计，axis=1按行统计\n",
    "print(df_obj.sum())\n",
    "print(df_obj.count())\n",
    "print( '\\n'*1 )\n",
    "#describe 产生多个统计数据\n",
    "print(df_obj.describe())"
   ]
  },
  {
   "cell_type": "code",
   "execution_count": 141,
   "metadata": {},
   "outputs": [
    {
     "name": "stdout",
     "output_type": "stream",
     "text": [
      "          0         1        2\n",
      "0  1.650403 -0.204041  0.99448\n",
      "1  1.000000  2.000000      NaN\n",
      "2       NaN  4.000000      NaN\n",
      "3  1.000000  2.000000  3.00000\n",
      "       0      1      2\n",
      "0  False  False  False\n",
      "1  False  False   True\n",
      "2   True  False   True\n",
      "3  False  False  False\n",
      "          0         1        2\n",
      "0  1.650403 -0.204041  0.99448\n",
      "3  1.000000  2.000000  3.00000\n",
      "          1\n",
      "0 -0.204041\n",
      "1  2.000000\n",
      "2  4.000000\n",
      "3  2.000000\n",
      "           0         1         2\n",
      "0   1.650403 -0.204041   0.99448\n",
      "1   1.000000  2.000000 -99.00000\n",
      "2 -99.000000  4.000000 -99.00000\n",
      "3   1.000000  2.000000   3.00000\n"
     ]
    }
   ],
   "source": [
    "#处理缺失数据\n",
    "df_data = pd.DataFrame([np.random.randn(3), [1., 2., np.nan],\n",
    "                       [np.nan, 4., np.nan], [1., 2., 3.]])\n",
    "print(df_data.head())\n",
    "# isnull\n",
    "print(df_data.isnull())\n",
    "# dropna根据axis轴方向，丢弃包含NaN的行或列\n",
    "print(df_data.dropna())\n",
    "print(df_data.dropna(axis=1))#指定行列\n",
    "# fillna填充缺失数据\n",
    "print(df_data.fillna(-99.))"
   ]
  },
  {
   "cell_type": "markdown",
   "metadata": {},
   "source": [
    "### Pandas的分组聚合"
   ]
  },
  {
   "cell_type": "code",
   "execution_count": 131,
   "metadata": {},
   "outputs": [
    {
     "name": "stdout",
     "output_type": "stream",
     "text": [
      "  key1   key2     data1     data2\n",
      "0    a    one  0.800854  1.254107\n",
      "1    b    one -0.359615  1.339783\n",
      "2    a    two  0.663312 -0.952899\n",
      "3    b  three  2.199351 -1.179059\n",
      "4    a    two -0.182035 -0.007730\n",
      "5    b    two -0.003307 -0.397958\n",
      "6    a    one  0.508948 -1.067804\n",
      "7    a  three  0.067674  1.520381\n"
     ]
    }
   ],
   "source": [
    "import pandas as pd\n",
    "import numpy as np\n",
    "\n",
    "dict_obj = {'key1' : ['a', 'b', 'a', 'b', \n",
    "                      'a', 'b', 'a', 'a'],\n",
    "            'key2' : ['one', 'one', 'two', 'three',\n",
    "                      'two', 'two', 'one', 'three'],\n",
    "            'data1': np.random.randn(8),\n",
    "            'data2': np.random.randn(8)}\n",
    "df_obj = pd.DataFrame(dict_obj)\n",
    "print(df_obj)"
   ]
  },
  {
   "cell_type": "code",
   "execution_count": 132,
   "metadata": {},
   "outputs": [
    {
     "name": "stdout",
     "output_type": "stream",
     "text": [
      "a\n",
      "  key1   key2     data1     data2\n",
      "0    a    one  0.800854  1.254107\n",
      "2    a    two  0.663312 -0.952899\n",
      "4    a    two -0.182035 -0.007730\n",
      "6    a    one  0.508948 -1.067804\n",
      "7    a  three  0.067674  1.520381\n",
      "b\n",
      "  key1   key2     data1     data2\n",
      "1    b    one -0.359615  1.339783\n",
      "3    b  three  2.199351 -1.179059\n",
      "5    b    two -0.003307 -0.397958\n",
      "\n",
      "\n",
      "a\n",
      "0    0.800854\n",
      "2    0.663312\n",
      "4   -0.182035\n",
      "6    0.508948\n",
      "7    0.067674\n",
      "Name: data1, dtype: float64\n",
      "b\n",
      "1   -0.359615\n",
      "3    2.199351\n",
      "5   -0.003307\n",
      "Name: data1, dtype: float64\n"
     ]
    }
   ],
   "source": [
    "# 分组运算\n",
    "# 单层分组，根据key1\n",
    "grouped1 = df_obj.groupby('key1')\n",
    "for group_name, group_data in grouped1:\n",
    "    print(group_name)\n",
    "    print(group_data)\n",
    "print( '\\n'*1 )\n",
    "# 多层分组，根据data1\n",
    "grouped2 = df_obj['data1'].groupby(df_obj['key1'])\n",
    "for group_name, group_data in grouped2:\n",
    "    print(group_name)\n",
    "    print(group_data)"
   ]
  },
  {
   "cell_type": "code",
   "execution_count": 135,
   "metadata": {},
   "outputs": [
    {
     "name": "stdout",
     "output_type": "stream",
     "text": [
      "         data1     data2\n",
      "key1                    \n",
      "a     1.858752  0.746056\n",
      "b     1.836428 -0.237235\n",
      "         data1     data2\n",
      "key1                    \n",
      "a     0.371750  0.149211\n",
      "b     0.612143 -0.079078\n"
     ]
    }
   ],
   "source": [
    "#聚合 (aggregation)常用于对分组后的数据进行计算\n",
    "print(df_obj.groupby('key1').sum())\n",
    "print(df_obj.groupby('key1').mean())"
   ]
  },
  {
   "cell_type": "code",
   "execution_count": 134,
   "metadata": {},
   "outputs": [
    {
     "name": "stdout",
     "output_type": "stream",
     "text": [
      "         data1     data2\n",
      "key1                    \n",
      "a     0.982890  2.588186\n",
      "b     2.558966  2.518842\n",
      "         data1     data2\n",
      "key1                    \n",
      "a     0.982890  2.588186\n",
      "b     2.558966  2.518842\n"
     ]
    }
   ],
   "source": [
    "# 自定义聚合函数grouped.agg(func)\n",
    "def peak_range(df):\n",
    "    \"\"\"\n",
    "        返回数值范围\n",
    "    \"\"\"\n",
    "    #print type(df) #参数为索引所对应的记录\n",
    "    return df.max() - df.min()\n",
    "\n",
    "print(df_obj.groupby('key1').agg(peak_range))\n",
    "print(df_obj.groupby('key1').agg(lambda df : df.max() - df.min()))"
   ]
  },
  {
   "cell_type": "markdown",
   "metadata": {},
   "source": [
    "### Pandas的数值重构"
   ]
  },
  {
   "cell_type": "code",
   "execution_count": 136,
   "metadata": {},
   "outputs": [
    {
     "name": "stdout",
     "output_type": "stream",
     "text": [
      "  key  data1\n",
      "0   b      9\n",
      "1   a      9\n",
      "2   a      4\n",
      "3   c      3\n",
      "4   a      7\n",
      "5   a      6\n",
      "6   a      4\n",
      "  key  data2\n",
      "0   a      2\n",
      "1   b      4\n",
      "2   c      0\n",
      "  key  data1  data2\n",
      "0   b      9      4\n",
      "1   a      9      2\n",
      "2   a      4      2\n",
      "3   a      7      2\n",
      "4   a      6      2\n",
      "5   a      4      2\n",
      "6   c      3      0\n"
     ]
    }
   ],
   "source": [
    "import pandas as pd\n",
    "import numpy as np\n",
    "\n",
    "df_obj1 = pd.DataFrame({'key': ['b', 'a', 'a', 'c', 'a', 'a', 'a'],\n",
    "                        'data1' : np.random.randint(0,10,7)})\n",
    "df_obj2 = pd.DataFrame({'key': ['a', 'b', 'c'],\n",
    "                        'data2' : np.random.randint(0,10,3)})\n",
    "\n",
    "print(df_obj1)\n",
    "print(df_obj2)\n",
    "# on显示指定“外键”\n",
    "print(pd.merge(df_obj1, df_obj2, on='key'))"
   ]
  },
  {
   "cell_type": "code",
   "execution_count": 137,
   "metadata": {},
   "outputs": [
    {
     "name": "stdout",
     "output_type": "stream",
     "text": [
      "0    False\n",
      "1    False\n",
      "2    False\n",
      "3    False\n",
      "4    False\n",
      "5    False\n",
      "6     True\n",
      "dtype: bool\n",
      "  key  data1\n",
      "0   b      9\n",
      "1   a      9\n",
      "2   a      4\n",
      "3   c      3\n",
      "4   a      7\n",
      "5   a      6\n"
     ]
    }
   ],
   "source": [
    "#duplicated() 返回布尔型Series表示每行是否为重复行\n",
    "print(df_obj1.duplicated())\n",
    "#drop_duplicates() 过滤重复行\n",
    "print(df_obj1.drop_duplicates())"
   ]
  },
  {
   "cell_type": "code",
   "execution_count": 138,
   "metadata": {},
   "outputs": [
    {
     "name": "stdout",
     "output_type": "stream",
     "text": [
      "  key  data1\n",
      "0   b      9\n",
      "1   a      9\n",
      "2   a      4\n",
      "3   c   -100\n",
      "4   a      7\n",
      "5   a      6\n",
      "6   a      4\n",
      "  key  data1\n",
      "0   b      9\n",
      "1   a      9\n",
      "2   a      4\n",
      "3   c   -100\n",
      "4   a      7\n",
      "5   a      6\n",
      "6   a      4\n",
      "  key  data1\n",
      "0   b      9\n",
      "1   a      9\n",
      "2   a      4\n",
      "3   c   -100\n",
      "4   a      7\n",
      "5   a      6\n",
      "6   a      4\n"
     ]
    }
   ],
   "source": [
    "# 单个值替换单个值\n",
    "print(df_obj1.replace(3, -100))\n",
    "\n",
    "# 多个值替换一个值\n",
    "print(df_obj1.replace([3, 5], -100))\n",
    "\n",
    "# 多个值替换多个值\n",
    "print(df_obj1.replace([3, 5], [-100, -200]))"
   ]
  }
 ],
 "metadata": {
  "kernelspec": {
   "display_name": "Python 3",
   "language": "python",
   "name": "python3"
  },
  "language_info": {
   "codemirror_mode": {
    "name": "ipython",
    "version": 3
   },
   "file_extension": ".py",
   "mimetype": "text/x-python",
   "name": "python",
   "nbconvert_exporter": "python",
   "pygments_lexer": "ipython3",
   "version": "3.7.1"
  }
 },
 "nbformat": 4,
 "nbformat_minor": 2
}
