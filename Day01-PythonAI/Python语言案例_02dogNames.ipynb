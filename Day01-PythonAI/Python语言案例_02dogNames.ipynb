{
 "cells": [
  {
   "cell_type": "markdown",
   "metadata": {},
   "source": [
    "# Pandas课堂作业"
   ]
  },
  {
   "cell_type": "markdown",
   "metadata": {},
   "source": [
    "### 我们有一个组关于狗的名字的统计数据\n",
    "#### 数据来源：https://www.kaggle.com/new-york-city/nyc-dog-names/data\n",
    "#### 使用次数最高的前几个名字是什么呢？\n",
    "#### 找到所有的使用次数超过500名字长度小于5的狗的名字？"
   ]
  },
  {
   "cell_type": "code",
   "execution_count": 1,
   "metadata": {
    "ExecuteTime": {
     "end_time": "2019-11-01T17:05:35.176230Z",
     "start_time": "2019-11-01T17:05:34.139773Z"
    }
   },
   "outputs": [
    {
     "name": "stdout",
     "output_type": "stream",
     "text": [
      "      Row_Labels  Count_AnimalName\n",
      "1156       BELLA              1195\n",
      "9140         MAX              1153\n",
      "2660     CHARLIE               856\n",
      "3251        COCO               852\n",
      "12368      ROCKY               823\n",
      "...          ...               ...\n",
      "6884        J-LO                 1\n",
      "6888       JOANN                 1\n",
      "6890        JOAO                 1\n",
      "6891     JOAQUIN                 1\n",
      "16219      39743                 1\n",
      "\n",
      "[16220 rows x 2 columns]\n"
     ]
    }
   ],
   "source": [
    "# coding=utf-8\n",
    "import pandas as pd\n",
    "\n",
    "df = pd.read_csv(\"./data/dogNames.csv\")\n",
    "#dataFrame中排序的方法\n",
    "df = df.sort_values(by=\"Count_AnimalName\",ascending=False)\n",
    "\n",
    "print(df)\n"
   ]
  },
  {
   "cell_type": "code",
   "execution_count": null,
   "metadata": {},
   "outputs": [],
   "source": []
  }
 ],
 "metadata": {
  "kernelspec": {
   "display_name": "Python 3",
   "language": "python",
   "name": "python3"
  },
  "language_info": {
   "codemirror_mode": {
    "name": "ipython",
    "version": 3
   },
   "file_extension": ".py",
   "mimetype": "text/x-python",
   "name": "python",
   "nbconvert_exporter": "python",
   "pygments_lexer": "ipython3",
   "version": "3.7.1"
  }
 },
 "nbformat": 4,
 "nbformat_minor": 2
}
